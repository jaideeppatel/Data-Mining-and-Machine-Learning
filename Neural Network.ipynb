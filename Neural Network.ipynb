{
 "cells": [
  {
   "cell_type": "code",
   "execution_count": null,
   "metadata": {
    "collapsed": true
   },
   "outputs": [],
   "source": [
    "import numpy as np\n",
    "import math\n",
    "import matplotlib.pyplot as plt\n",
    "%matplotlib inline"
   ]
  },
  {
   "cell_type": "code",
   "execution_count": null,
   "metadata": {
    "collapsed": false
   },
   "outputs": [],
   "source": [
    "x1 = np.array([[0,0,0,0,1],[0,0,0,1,1],[0,0,1,0,1],[0,0,1,1,1],[0,1,0,0,1],[0,1,0,1,1],[0,1,1,0,1],[0,1,1,1,1],[1,0,0,0,1],\n",
    "             [1,0,0,1,1],[1,0,1,0,1],[1,0,1,1,1],[1,1,0,0,1],[1,1,0,1,1],[1,1,1,0,1],[1,1,1,1,1]])\n",
    "x1 = x1.T"
   ]
  },
  {
   "cell_type": "code",
   "execution_count": null,
   "metadata": {
    "collapsed": false
   },
   "outputs": [],
   "source": [
    "y = np.array([[0,1,1,0,1,0,0,1,1,0,0,1,0,1,1,0]])"
   ]
  },
  {
   "cell_type": "code",
   "execution_count": null,
   "metadata": {
    "collapsed": true
   },
   "outputs": [],
   "source": [
    "# Sigmoid and accuracy functions to be used for training ....\n",
    "def activation_function(z):\n",
    "    sigmoid_value = 1 / (1 + np.exp(-z))\n",
    "    return sigmoid_value"
   ]
  },
  {
   "cell_type": "code",
   "execution_count": null,
   "metadata": {
    "collapsed": false,
    "scrolled": true
   },
   "outputs": [],
   "source": [
    "np.random.seed(20)\n",
    "for j in range(5,51,5):\n",
    "    eeta = j / 100\n",
    "    print(eeta)\n",
    "    i=0\n",
    "    a1 = np.random.normal(-1, 1, 20)\n",
    "    a1 = a1.reshape((4,5))\n",
    "\n",
    "    a2 = np.random.normal(-1, 1, 4)\n",
    "    a2 = a2.reshape((1,4))\n",
    "\n",
    "    errorlist = []\n",
    "\n",
    "    while(True):\n",
    "        i+=1\n",
    "        z1 = np.dot(a1,x1)\n",
    "        x2 = activation_function(z1)\n",
    "\n",
    "        z2 = np.dot(a2,x2)\n",
    "        y_cap = activation_function(z2)\n",
    "\n",
    "        err = (y_cap - y)\n",
    "        esum = np.sum(np.abs(err))\n",
    "        errorlist.append(esum)\n",
    "#         if i%1000==0:\n",
    "#             print(esum)\n",
    "\n",
    "        test_cond = np.all(np.abs(err)<= 0.05)\n",
    "        temp = np.where(y_cap<=0.5,0,1)\n",
    "#         test_cond = np.all(y == temp)\n",
    "\n",
    "        if (test_cond==True):\n",
    "            print(\"The neural network converges at:\",i,\"for eeta:\",eeta)\n",
    "            print(\"Actual class:\",y)\n",
    "            print(\"Predictions: \",temp)\n",
    "            break\n",
    "\n",
    "        g2 = (err) * y_cap * (1 - y_cap)\n",
    "        a2 = a2 - eeta * np.dot(g2, x2.T)\n",
    "\n",
    "        g1 = np.dot(a2.T,g2) * x2 * (1 - x2)\n",
    "        a1 = a1 - eeta * np.dot(g1,x1.T)\n",
    "\n",
    "    plt.plot(errorlist)\n",
    "    plt.show()"
   ]
  },
  {
   "cell_type": "markdown",
   "metadata": {},
   "source": [
    "# This is for the Momentum ....."
   ]
  },
  {
   "cell_type": "code",
   "execution_count": null,
   "metadata": {
    "collapsed": false,
    "scrolled": true
   },
   "outputs": [],
   "source": [
    "np.random.seed(20)\n",
    "for j in range(5,51,5):\n",
    "    eeta = 5 / 100\n",
    "    print(eeta)\n",
    "    i=0\n",
    "    a1 = np.random.normal(-1, 1, 20)\n",
    "    a1 = a1.reshape((4,5))\n",
    "\n",
    "    a2 = np.random.normal(-1, 1, 4)\n",
    "    a2 = a2.reshape((1,4))\n",
    "\n",
    "    errorlist = []\n",
    "    old_c1 = 0\n",
    "    old_c2 = 0\n",
    "\n",
    "    while(True):\n",
    "        i+=1\n",
    "        z1 = np.dot(a1,x1)\n",
    "        x2 = activation_function(z1)\n",
    "\n",
    "        z2 = np.dot(a2,x2)\n",
    "        y_cap = activation_function(z2)\n",
    "\n",
    "        err = (y_cap - y)\n",
    "        esum = np.sum(np.abs(err))\n",
    "        errorlist.append(esum)\n",
    "    #         if i%1000==0:\n",
    "    #             print(esum)\n",
    "\n",
    "        test_cond = np.all(np.abs(err)<= 0.05)\n",
    "        temp = np.where(y_cap<=0.5,0,1)\n",
    "    #         test_cond = np.all(y == temp)\n",
    "\n",
    "        if (test_cond==True):\n",
    "            print(\"The neural network converges at:\",i,\"for momentum: 0.9\",\" and for eeta:\",eeta)\n",
    "            print(\"Actual class:\",y)\n",
    "            print(\"Predictions: \",temp)\n",
    "            break\n",
    "\n",
    "        g2 = (err) * y_cap * (1 - y_cap)\n",
    "        c1 = - eeta * np.dot(g2, x2.T)\n",
    "        a2 = a2 - eeta * np.dot(g2, x2.T) + 0.9*(old_c1)\n",
    "        old_c1 = c1\n",
    "\n",
    "        g1 = np.dot(a2.T,g2) * x2 * (1 - x2)\n",
    "        c2 = - eeta * np.dot(g1,x1.T)\n",
    "        a1 = a1 - eeta * np.dot(g1,x1.T) + 0.9*(old_c2)\n",
    "        old_c2 = c2\n",
    "\n",
    "    plt.plot(errorlist)\n",
    "    plt.show()"
   ]
  },
  {
   "cell_type": "code",
   "execution_count": null,
   "metadata": {
    "collapsed": false
   },
   "outputs": [],
   "source": [
    "# Test predictions ....\n",
    "z1 = np.dot(a1,x1)\n",
    "x2 = activation_function(z1)\n",
    "\n",
    "z2 = np.dot(a2,x2)\n",
    "y_cap = activation_function(z2)\n",
    "temp = np.where(y_cap<=0.5,0,1)\n",
    "print(\"Test prediction output:\",temp)"
   ]
  }
 ],
 "metadata": {
  "kernelspec": {
   "display_name": "Python 3",
   "language": "python",
   "name": "python3"
  },
  "language_info": {
   "codemirror_mode": {
    "name": "ipython",
    "version": 3
   },
   "file_extension": ".py",
   "mimetype": "text/x-python",
   "name": "python",
   "nbconvert_exporter": "python",
   "pygments_lexer": "ipython3",
   "version": "3.5.2"
  }
 },
 "nbformat": 4,
 "nbformat_minor": 0
}
